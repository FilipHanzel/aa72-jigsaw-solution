{
 "cells": [
  {
   "cell_type": "code",
   "execution_count": 1,
   "metadata": {},
   "outputs": [],
   "source": [
    "from __future__ import annotations\n",
    "\n",
    "import csv\n",
    "import os\n",
    "import pickle\n",
    "from copy import deepcopy\n",
    "from itertools import combinations\n",
    "from typing import Any, TypeAlias\n",
    "\n",
    "import numpy as np\n",
    "import numpy.typing as npt\n",
    "import ray\n",
    "from sklearn.neighbors import KDTree\n",
    "from tqdm import tqdm\n",
    "\n",
    "from utils import preview_contents"
   ]
  },
  {
   "cell_type": "code",
   "execution_count": 2,
   "metadata": {},
   "outputs": [],
   "source": [
    "Point: TypeAlias = npt.NDArray[np.floating]\n",
    "PointArray: TypeAlias = npt.NDArray[np.floating]\n",
    "\n",
    "Side: TypeAlias = dict[str, str | PointArray]\n",
    "Piece: TypeAlias = dict[str, str | list[Side]]"
   ]
  },
  {
   "cell_type": "markdown",
   "metadata": {},
   "source": [
    "# Implementation"
   ]
  },
  {
   "cell_type": "markdown",
   "metadata": {},
   "source": [
    "## Load data"
   ]
  },
  {
   "cell_type": "code",
   "execution_count": 3,
   "metadata": {},
   "outputs": [
    {
     "name": "stdout",
     "output_type": "stream",
     "text": [
      "Loaded:\n",
      "[{'name': <class 'str'>,\n",
      "  'sides': [{'corners': ((<class 'float'>,),),\n",
      "             'points': [(<class 'float'>,)],\n",
      "             'type': <class 'str'>}]}]\n",
      "\n",
      "Converting...\n"
     ]
    },
    {
     "name": "stderr",
     "output_type": "stream",
     "text": [
      "100%|██████████| 40/40 [00:00<00:00, 741.52it/s]"
     ]
    },
    {
     "name": "stdout",
     "output_type": "stream",
     "text": [
      "\n",
      "Converted:\n",
      "[{'name': <class 'str'>,\n",
      "  'sides': [{'corners': <class 'numpy.ndarray'>,\n",
      "             'points': <class 'numpy.ndarray'>,\n",
      "             'type': <class 'str'>}]}]\n"
     ]
    },
    {
     "name": "stderr",
     "output_type": "stream",
     "text": [
      "\n"
     ]
    }
   ],
   "source": [
    "stage_02_out_path = os.path.join(\"out\", \"02\", \"out.pickle\")\n",
    "\n",
    "with open(stage_02_out_path, \"rb\") as f:\n",
    "    DATA = pickle.load(f)\n",
    "\n",
    "print(\"Loaded:\")\n",
    "preview_contents(DATA)\n",
    "\n",
    "print(\"\\nConverting...\")\n",
    "for piece in tqdm(DATA):\n",
    "    for side in piece[\"sides\"]:\n",
    "        side[\"corners\"] = np.array(side[\"corners\"], dtype=np.float32)\n",
    "        side[\"points\"] = np.array(side[\"points\"], dtype=np.float32)\n",
    "\n",
    "print(\"\\nConverted:\")\n",
    "preview_contents(DATA)"
   ]
  },
  {
   "cell_type": "code",
   "execution_count": 4,
   "metadata": {},
   "outputs": [],
   "source": [
    "SAMPLE = [\n",
    "    deepcopy(piece)\n",
    "    for piece in DATA\n",
    "    if piece[\"name\"] in [\"0001\", \"0002\", \"0003\", \"0004\", \"0005\", \"0006\"]\n",
    "]"
   ]
  },
  {
   "cell_type": "markdown",
   "metadata": {},
   "source": [
    "# Side match score\n",
    "\n",
    "Calculate the match score between two sets of points using the Iterative Closest Point (ICP) algorithm.\n",
    "The match score represents the average distance between corresponding points in the source and destination sets.\n",
    "\n",
    "**Note:**\n",
    "\n",
    "The order of the source and destination arrays may affect the result.\n",
    "\n",
    "**Inspired by:**\n",
    "- https://nghiaho.com/?page_id=671\n",
    "- https://github.com/ClayFlannigan/icp\n"
   ]
  },
  {
   "cell_type": "code",
   "execution_count": 5,
   "metadata": {},
   "outputs": [],
   "source": [
    "def icp(src: np.ndarray, dst: np.ndarray) -> float:\n",
    "    src_rows, src_dims = src.shape\n",
    "    dst_rows, dst_dims = dst.shape\n",
    "\n",
    "    # Should work for points with any dimensions\n",
    "    n = max(src_dims, dst_dims)\n",
    "\n",
    "    # Make points homogenious (this also ensures the same dimensionality for src and dst)\n",
    "    src_h = np.zeros((src_rows, n + 1), dtype=np.float32)\n",
    "    dst_h = np.zeros((dst_rows, n + 1), dtype=np.float32)\n",
    "    src_h[:, n] = 1\n",
    "    dst_h[:, n] = 1\n",
    "    src_h[:, :src_dims] = src\n",
    "    dst_h[:, :dst_dims] = dst\n",
    "\n",
    "    prev_error = np.inf  # error history for early stop\n",
    "    score = np.inf  # score (average error)\n",
    "\n",
    "    tree = KDTree(dst_h, leaf_size=1, p=1)\n",
    "\n",
    "    iterations = 1000\n",
    "    for _ in range(iterations):\n",
    "        # Guess which points in dst correspond to points in src based on shortest distance\n",
    "        distances, idxs = tree.query(src_h, k=1)\n",
    "\n",
    "        # Calculate error as average distance between points in dst and src\n",
    "        error = np.mean(distances)\n",
    "\n",
    "        # Update the score\n",
    "        score = error if error < score else score\n",
    "\n",
    "        # Early stop if there is no improvement or error gets worse\n",
    "        if np.abs(prev_error - error) < 10e-6:\n",
    "            break\n",
    "        prev_error = error\n",
    "\n",
    "        # Select subset of points from dst for transformations\n",
    "        dst_s = dst_h[idxs.flatten()]\n",
    "\n",
    "        # Translate to centroids\n",
    "        src_centroid = np.mean(src_h, axis=0)\n",
    "        dst_centroid = np.mean(dst_s, axis=0)\n",
    "        src_c = src_h - src_centroid\n",
    "        dst_c = dst_s - dst_centroid\n",
    "\n",
    "        # Calculate rotation matrix\n",
    "        h = src_c.T @ dst_c\n",
    "        u, _, v = np.linalg.svd(h)\n",
    "        r = v.T @ u.T\n",
    "\n",
    "        # Special reflection case\n",
    "        if np.linalg.det(r) < 0:\n",
    "            v[-1, :] *= -1\n",
    "            r = v.T @ u.T\n",
    "\n",
    "        # Translation vector\n",
    "        t = dst_centroid - r @ src_centroid.T\n",
    "\n",
    "        # Apply transformations to src\n",
    "        src_h = (r @ src_h.T).T + t\n",
    "    else:\n",
    "        # Final score update in case of no early stop\n",
    "        distances, idxs = tree.query(src_h, k=1)\n",
    "        error = np.mean(distances)\n",
    "        score = error if error < score else score\n",
    "\n",
    "    return score"
   ]
  },
  {
   "cell_type": "code",
   "execution_count": 6,
   "metadata": {},
   "outputs": [
    {
     "name": "stdout",
     "output_type": "stream",
     "text": [
      "score: 0.75 0.3278737850487232\n",
      "score: 1.25 0.608783908188343\n",
      "score: 0.25 0.25\n",
      "score: 0.0 0.0\n"
     ]
    }
   ],
   "source": [
    "# Sanity check\n",
    "\n",
    "a = np.array([[0, 1], [1, 1], [2, 1], [3, 2]], dtype=float)\n",
    "b = np.array([[1, 1], [2, 2], [2, 3], [2, 4]], dtype=float)\n",
    "print(\"score:\", icp(a, b), icp(b, a))\n",
    "\n",
    "a = np.array([[0, 1], [1, 1], [2, 1], [3, 2]], dtype=float)\n",
    "b = np.array([[2, -1], [2, 0], [2, 1], [1, 2]], dtype=float)\n",
    "print(\"score:\", icp(a, b), icp(b, a))\n",
    "\n",
    "a = np.array([[0, 1], [1, 1], [2, 1], [3, 1]], dtype=float)\n",
    "b = np.array([[1, 1], [2, 1], [3, 1], [4, 1]], dtype=float)\n",
    "print(\"score:\", icp(a, b), icp(b, a))\n",
    "\n",
    "a = np.array([[0, 1], [1, 1], [2, 1], [3, 1]], dtype=float)\n",
    "b = np.array([[0, 2], [1, 2], [2, 2], [3, 2]], dtype=float)\n",
    "print(\"score:\", icp(a, b), icp(b, a))"
   ]
  },
  {
   "cell_type": "code",
   "execution_count": 7,
   "metadata": {},
   "outputs": [],
   "source": [
    "def get_score(src: np.ndarray, dst: np.ndarray, reverse=True) -> float:\n",
    "    # If checking hole/knob match, one has to be reversed before ICP score\n",
    "    if reverse:\n",
    "        src = -src\n",
    "        src[:, 0] -= src[:, 0].min()\n",
    "        src[:, 1] -= src[:, 1].min()\n",
    "\n",
    "    # Make sure to try matching larger side to smaller (allows to include error caused by length difference)\n",
    "    if len(dst) > len(src):\n",
    "        dst, src = src, dst\n",
    "\n",
    "    # Subsample source, to speed up calculations and cut margin to avoid noise at the ends of the side\n",
    "    keep_percentage = 0.15\n",
    "    subsampling_step = int(1 / keep_percentage)\n",
    "    cut_margin = 15\n",
    "\n",
    "    # TODO: Test cutting margin based on y corrdinates, not fixed number of points\n",
    "\n",
    "    return icp(\n",
    "        src[cut_margin:-cut_margin:subsampling_step], dst[cut_margin:-cut_margin]\n",
    "    )"
   ]
  },
  {
   "cell_type": "code",
   "execution_count": 8,
   "metadata": {},
   "outputs": [
    {
     "name": "stdout",
     "output_type": "stream",
     "text": [
      "a_idx = 0 (edge), b_idx = 0 (knob); score: 142.321\n",
      "a_idx = 0 (edge), b_idx = 1 (knob); score:  97.497\n",
      "a_idx = 0 (edge), b_idx = 2 (edge); score:  25.628\n",
      "a_idx = 0 (edge), b_idx = 3 (hole); score: 102.114\n",
      "a_idx = 1 (edge), b_idx = 0 (knob); score: 136.931\n",
      "a_idx = 1 (edge), b_idx = 1 (knob); score:  94.650\n",
      "a_idx = 1 (edge), b_idx = 2 (edge); score:   7.387\n",
      "a_idx = 1 (edge), b_idx = 3 (hole); score:  97.460\n",
      "a_idx = 2 (knob), b_idx = 0 (knob); score:  39.949\n",
      "a_idx = 2 (knob), b_idx = 1 (knob); score:  10.288\n",
      "a_idx = 2 (knob), b_idx = 2 (edge); score:  96.826\n",
      "a_idx = 2 (knob), b_idx = 3 (hole); score:  64.598\n",
      "a_idx = 3 (knob), b_idx = 0 (knob); score:  50.261\n",
      "a_idx = 3 (knob), b_idx = 1 (knob); score:  90.503\n",
      "a_idx = 3 (knob), b_idx = 2 (edge); score:  97.162\n",
      "a_idx = 3 (knob), b_idx = 3 (hole); score:   1.524\n"
     ]
    }
   ],
   "source": [
    "a = next(piece for piece in DATA if piece[\"name\"] == \"0001\")\n",
    "b = next(piece for piece in DATA if piece[\"name\"] == \"0002\")\n",
    "\n",
    "reverse = a is not b\n",
    "\n",
    "for a_idx, side_a in enumerate(a[\"sides\"]):\n",
    "    for b_idx, side_b in enumerate(b[\"sides\"]):\n",
    "        print(\n",
    "            f\"{a_idx = } ({side_a['type']}), {b_idx = } ({side_b['type']});\"\n",
    "            f\" score: {get_score(side_a['points'], side_b['points'], reverse):7.3f}\"\n",
    "        )"
   ]
  },
  {
   "cell_type": "markdown",
   "metadata": {},
   "source": [
    "# Building comparison index\n",
    "\n",
    "Compare all knobs with all holes to build an index with match scores. Scores are precomputed and stored to avoid recalculating them while solving the jigsaw.\n",
    "\n",
    "Comparison index is a csv file with following columns: \\\n",
    "`piece_a_name`, `side_a_idx`, `side_a_type`, `piece_b_name`, `side_b_idx`, `side_b_type`, `score`"
   ]
  },
  {
   "cell_type": "code",
   "execution_count": 9,
   "metadata": {},
   "outputs": [],
   "source": [
    "def build_index(pieces: list[Piece], index_file_path: str) -> None:\n",
    "    if os.path.exists(index_file_path):\n",
    "        os.remove(index_file_path)\n",
    "    if not os.path.exists(os.path.dirname(index_file_path)):\n",
    "        os.makedirs(os.path.dirname(index_file_path))\n",
    "\n",
    "    print(\"Processing...\")\n",
    "\n",
    "    n_pieces = len(pieces)\n",
    "    n_comparisons = 16 * (n_pieces - 1) * n_pieces // 2\n",
    "\n",
    "    with open(index_file_path, \"wt\") as f, tqdm(total=n_comparisons) as pbar:\n",
    "        writer = csv.writer(f)\n",
    "\n",
    "        n = len(pieces)\n",
    "        for i in range(0, n):\n",
    "            for j in range(i + 1, n):\n",
    "                a = pieces[i]\n",
    "                b = pieces[j]\n",
    "\n",
    "                for side_a_idx, side_a in enumerate(a[\"sides\"]):\n",
    "                    for side_b_idx, side_b in enumerate(b[\"sides\"]):\n",
    "                        if (side_a[\"type\"] == \"hole\" and side_b[\"type\"] == \"knob\") or (\n",
    "                            side_a[\"type\"] == \"knob\" and side_b[\"type\"] == \"hole\"\n",
    "                        ):\n",
    "                            score = get_score(side_a[\"points\"], side_b[\"points\"])\n",
    "                            writer.writerow(\n",
    "                                [\n",
    "                                    # fmt: off\n",
    "                                    a['name'], side_a_idx, side_a['type'],\n",
    "                                    b['name'], side_b_idx, side_b['type'],\n",
    "                                    score\n",
    "                                    # fmt: on\n",
    "                                ]\n",
    "                            )\n",
    "\n",
    "                        pbar.update()"
   ]
  },
  {
   "cell_type": "code",
   "execution_count": 10,
   "metadata": {},
   "outputs": [
    {
     "name": "stdout",
     "output_type": "stream",
     "text": [
      "Processing...\n"
     ]
    },
    {
     "name": "stderr",
     "output_type": "stream",
     "text": [
      "100%|██████████| 240/240 [00:01<00:00, 219.73it/s]\n"
     ]
    }
   ],
   "source": [
    "build_index(SAMPLE, os.path.join(\"out\", \"03\", \"sample_index.csv\"))"
   ]
  },
  {
   "cell_type": "markdown",
   "metadata": {},
   "source": [
    "## Distributed with Ray"
   ]
  },
  {
   "cell_type": "code",
   "execution_count": 11,
   "metadata": {},
   "outputs": [
    {
     "name": "stderr",
     "output_type": "stream",
     "text": [
      "2024-01-05 21:45:03,201\tINFO worker.py:1724 -- Started a local Ray instance.\n"
     ]
    },
    {
     "data": {
      "application/vnd.jupyter.widget-view+json": {
       "model_id": "9bb437bb4e3a46b6b88734761a92ff0f",
       "version_major": 2,
       "version_minor": 0
      },
      "text/html": [
       "<div class=\"lm-Widget p-Widget lm-Panel p-Panel jp-Cell-outputWrapper\">\n",
       "    <div style=\"margin-left: 50px;display: flex;flex-direction: row;align-items: center\">\n",
       "        <div class=\"jp-RenderedHTMLCommon\" style=\"display: flex; flex-direction: row;\">\n",
       "  <svg viewBox=\"0 0 567 224\" fill=\"none\" xmlns=\"http://www.w3.org/2000/svg\" style=\"height: 3em;\">\n",
       "    <g clip-path=\"url(#clip0_4338_178347)\">\n",
       "        <path d=\"M341.29 165.561H355.29L330.13 129.051C345.63 123.991 354.21 112.051 354.21 94.2307C354.21 71.3707 338.72 58.1807 311.88 58.1807H271V165.561H283.27V131.661H311.8C314.25 131.661 316.71 131.501 319.01 131.351L341.25 165.561H341.29ZM283.29 119.851V70.0007H311.82C331.3 70.0007 342.34 78.2907 342.34 94.5507C342.34 111.271 331.34 119.861 311.82 119.861L283.29 119.851ZM451.4 138.411L463.4 165.561H476.74L428.74 58.1807H416L367.83 165.561H380.83L392.83 138.411H451.4ZM446.19 126.601H398L422 72.1407L446.24 126.601H446.19ZM526.11 128.741L566.91 58.1807H554.35L519.99 114.181L485.17 58.1807H472.44L514.01 129.181V165.541H526.13V128.741H526.11Z\" fill=\"var(--jp-ui-font-color0)\"/>\n",
       "        <path d=\"M82.35 104.44C84.0187 97.8827 87.8248 92.0678 93.1671 87.9146C98.5094 83.7614 105.083 81.5067 111.85 81.5067C118.617 81.5067 125.191 83.7614 130.533 87.9146C135.875 92.0678 139.681 97.8827 141.35 104.44H163.75C164.476 101.562 165.622 98.8057 167.15 96.2605L127.45 56.5605C121.071 60.3522 113.526 61.6823 106.235 60.3005C98.9443 58.9187 92.4094 54.9203 87.8602 49.0574C83.3109 43.1946 81.0609 35.8714 81.5332 28.4656C82.0056 21.0599 85.1679 14.0819 90.4252 8.8446C95.6824 3.60726 102.672 0.471508 110.08 0.0272655C117.487 -0.416977 124.802 1.86091 130.647 6.4324C136.493 11.0039 140.467 17.5539 141.821 24.8501C143.175 32.1463 141.816 39.6859 138 46.0505L177.69 85.7505C182.31 82.9877 187.58 81.4995 192.962 81.4375C198.345 81.3755 203.648 82.742 208.33 85.3976C213.012 88.0532 216.907 91.9029 219.616 96.5544C222.326 101.206 223.753 106.492 223.753 111.875C223.753 117.258 222.326 122.545 219.616 127.197C216.907 131.848 213.012 135.698 208.33 138.353C203.648 141.009 198.345 142.375 192.962 142.313C187.58 142.251 182.31 140.763 177.69 138L138 177.7C141.808 184.071 143.155 191.614 141.79 198.91C140.424 206.205 136.44 212.75 130.585 217.313C124.731 221.875 117.412 224.141 110.004 223.683C102.596 223.226 95.6103 220.077 90.3621 214.828C85.1139 209.58 81.9647 202.595 81.5072 195.187C81.0497 187.779 83.3154 180.459 87.878 174.605C92.4405 168.751 98.9853 164.766 106.281 163.401C113.576 162.035 121.119 163.383 127.49 167.19L167.19 127.49C165.664 124.941 164.518 122.182 163.79 119.3H141.39C139.721 125.858 135.915 131.673 130.573 135.826C125.231 139.98 118.657 142.234 111.89 142.234C105.123 142.234 98.5494 139.98 93.2071 135.826C87.8648 131.673 84.0587 125.858 82.39 119.3H60C58.1878 126.495 53.8086 132.78 47.6863 136.971C41.5641 141.163 34.1211 142.972 26.7579 142.059C19.3947 141.146 12.6191 137.574 7.70605 132.014C2.79302 126.454 0.0813599 119.29 0.0813599 111.87C0.0813599 104.451 2.79302 97.2871 7.70605 91.7272C12.6191 86.1673 19.3947 82.5947 26.7579 81.6817C34.1211 80.7686 41.5641 82.5781 47.6863 86.7696C53.8086 90.9611 58.1878 97.2456 60 104.44H82.35ZM100.86 204.32C103.407 206.868 106.759 208.453 110.345 208.806C113.93 209.159 117.527 208.258 120.522 206.256C123.517 204.254 125.725 201.276 126.771 197.828C127.816 194.38 127.633 190.677 126.253 187.349C124.874 184.021 122.383 181.274 119.205 179.577C116.027 177.88 112.359 177.337 108.826 178.042C105.293 178.746 102.113 180.654 99.8291 183.44C97.5451 186.226 96.2979 189.718 96.3 193.32C96.2985 195.364 96.7006 197.388 97.4831 199.275C98.2656 201.163 99.4132 202.877 100.86 204.32ZM204.32 122.88C206.868 120.333 208.453 116.981 208.806 113.396C209.159 109.811 208.258 106.214 206.256 103.219C204.254 100.223 201.275 98.0151 197.827 96.97C194.38 95.9249 190.676 96.1077 187.348 97.4873C184.02 98.8669 181.274 101.358 179.577 104.536C177.879 107.714 177.337 111.382 178.041 114.915C178.746 118.448 180.653 121.627 183.439 123.911C186.226 126.195 189.717 127.443 193.32 127.44C195.364 127.443 197.388 127.042 199.275 126.259C201.163 125.476 202.878 124.328 204.32 122.88ZM122.88 19.4205C120.333 16.8729 116.981 15.2876 113.395 14.9347C109.81 14.5817 106.213 15.483 103.218 17.4849C100.223 19.4868 98.0146 22.4654 96.9696 25.9131C95.9245 29.3608 96.1073 33.0642 97.4869 36.3922C98.8665 39.7202 101.358 42.4668 104.535 44.1639C107.713 45.861 111.381 46.4036 114.914 45.6992C118.447 44.9949 121.627 43.0871 123.911 40.301C126.195 37.515 127.442 34.0231 127.44 30.4205C127.44 28.3772 127.038 26.3539 126.255 24.4664C125.473 22.5788 124.326 20.8642 122.88 19.4205ZM19.42 100.86C16.8725 103.408 15.2872 106.76 14.9342 110.345C14.5813 113.93 15.4826 117.527 17.4844 120.522C19.4863 123.518 22.4649 125.726 25.9127 126.771C29.3604 127.816 33.0638 127.633 36.3918 126.254C39.7198 124.874 42.4664 122.383 44.1635 119.205C45.8606 116.027 46.4032 112.359 45.6988 108.826C44.9944 105.293 43.0866 102.114 40.3006 99.8296C37.5145 97.5455 34.0227 96.2983 30.42 96.3005C26.2938 96.3018 22.337 97.9421 19.42 100.86ZM100.86 100.86C98.3125 103.408 96.7272 106.76 96.3742 110.345C96.0213 113.93 96.9226 117.527 98.9244 120.522C100.926 123.518 103.905 125.726 107.353 126.771C110.8 127.816 114.504 127.633 117.832 126.254C121.16 124.874 123.906 122.383 125.604 119.205C127.301 116.027 127.843 112.359 127.139 108.826C126.434 105.293 124.527 102.114 121.741 99.8296C118.955 97.5455 115.463 96.2983 111.86 96.3005C109.817 96.299 107.793 96.701 105.905 97.4835C104.018 98.2661 102.303 99.4136 100.86 100.86Z\" fill=\"#00AEEF\"/>\n",
       "    </g>\n",
       "    <defs>\n",
       "        <clipPath id=\"clip0_4338_178347\">\n",
       "            <rect width=\"566.93\" height=\"223.75\" fill=\"white\"/>\n",
       "        </clipPath>\n",
       "    </defs>\n",
       "  </svg>\n",
       "</div>\n",
       "\n",
       "        <table class=\"jp-RenderedHTMLCommon\" style=\"border-collapse: collapse;color: var(--jp-ui-font-color1);font-size: var(--jp-ui-font-size1);\">\n",
       "    <tr>\n",
       "        <td style=\"text-align: left\"><b>Python version:</b></td>\n",
       "        <td style=\"text-align: left\"><b>3.11.6</b></td>\n",
       "    </tr>\n",
       "    <tr>\n",
       "        <td style=\"text-align: left\"><b>Ray version:</b></td>\n",
       "        <td style=\"text-align: left\"><b>2.9.0</b></td>\n",
       "    </tr>\n",
       "    \n",
       "</table>\n",
       "\n",
       "    </div>\n",
       "</div>\n"
      ],
      "text/plain": [
       "RayContext(dashboard_url='', python_version='3.11.6', ray_version='2.9.0', ray_commit='9be5a16e3ccad0710bba08d0f75e9ff774ae6880', protocol_version=None)"
      ]
     },
     "execution_count": 11,
     "metadata": {},
     "output_type": "execute_result"
    }
   ],
   "source": [
    "ray.init()"
   ]
  },
  {
   "cell_type": "code",
   "execution_count": 12,
   "metadata": {},
   "outputs": [
    {
     "name": "stderr",
     "output_type": "stream",
     "text": [
      "100%|██████████| 15/15 [00:00<00:00, 15.30it/s]\n"
     ]
    }
   ],
   "source": [
    "@ray.remote\n",
    "def compare_pieces(piece_a: Piece, piece_b: Piece) -> list[str | int]:\n",
    "    result = []\n",
    "    for side_a_idx, side_a in enumerate(piece_a[\"sides\"]):\n",
    "        for side_b_idx, side_b in enumerate(piece_b[\"sides\"]):\n",
    "            if (side_a[\"type\"] == \"hole\" and side_b[\"type\"] == \"knob\") or (\n",
    "                side_a[\"type\"] == \"knob\" and side_b[\"type\"] == \"hole\"\n",
    "            ):\n",
    "                result.append(\n",
    "                    [\n",
    "                        # fmt: off\n",
    "                        piece_a[\"name\"], side_a_idx, side_a[\"type\"],\n",
    "                        piece_b[\"name\"], side_b_idx, side_b[\"type\"],\n",
    "                        get_score(side_a[\"points\"], side_b[\"points\"]),\n",
    "                        # fmt: on\n",
    "                    ]\n",
    "                )\n",
    "    return result\n",
    "\n",
    "\n",
    "def build_index_ray(pieces: list[Piece], index_file_path: str) -> None:\n",
    "    ray_data_ids = [ray.put(piece) for piece in pieces]\n",
    "    tasks = [\n",
    "        compare_pieces.remote(ray_id_piece_a, ray_id_piece_b)\n",
    "        for ray_id_piece_a, ray_id_piece_b in combinations(ray_data_ids, 2)\n",
    "    ]\n",
    "\n",
    "    def yield_ray(tasks: list[ray.ObjectRef]) -> Any:\n",
    "        while tasks:\n",
    "            done, tasks = ray.wait(tasks)\n",
    "            yield ray.get(done[0])\n",
    "\n",
    "    with open(index_file_path, \"wt\") as f:\n",
    "        writer = csv.writer(f)\n",
    "        for result in tqdm(yield_ray(tasks), total=len(tasks)):\n",
    "            writer.writerows(result)\n",
    "\n",
    "\n",
    "build_index_ray(SAMPLE, os.path.join(\"out\", \"03\", \"sample_index_ray.csv\"))"
   ]
  },
  {
   "cell_type": "code",
   "execution_count": 13,
   "metadata": {},
   "outputs": [],
   "source": [
    "# Sanity check (compare single process vs ray implementation)\n",
    "with (\n",
    "    open(os.path.join(\"out\", \"03\", \"sample_index_ray.csv\"), \"rt\") as index_mp,\n",
    "    open(os.path.join(\"out\", \"03\", \"sample_index.csv\"), \"rt\") as index,\n",
    "):\n",
    "    index_mp = set(index_mp.read().strip().split(\"\\n\"))\n",
    "    index = set(index.read().strip().split(\"\\n\"))\n",
    "\n",
    "    assert index_mp == index"
   ]
  },
  {
   "cell_type": "code",
   "execution_count": null,
   "metadata": {},
   "outputs": [],
   "source": [
    "ray.shutdown()"
   ]
  },
  {
   "cell_type": "markdown",
   "metadata": {},
   "source": [
    "# Full dataset"
   ]
  },
  {
   "cell_type": "code",
   "execution_count": null,
   "metadata": {},
   "outputs": [],
   "source": [
    "ray.init()"
   ]
  },
  {
   "cell_type": "code",
   "execution_count": 14,
   "metadata": {},
   "outputs": [
    {
     "name": "stderr",
     "output_type": "stream",
     "text": [
      "100%|██████████| 780/780 [00:20<00:00, 38.29it/s]\n"
     ]
    }
   ],
   "source": [
    "build_index_ray(DATA, os.path.join(\"out\", \"03\", \"index.csv\"))"
   ]
  },
  {
   "cell_type": "code",
   "execution_count": 15,
   "metadata": {},
   "outputs": [],
   "source": [
    "ray.shutdown()"
   ]
  }
 ],
 "metadata": {
  "kernelspec": {
   "display_name": "venv",
   "language": "python",
   "name": "python3"
  },
  "language_info": {
   "codemirror_mode": {
    "name": "ipython",
    "version": 3
   },
   "file_extension": ".py",
   "mimetype": "text/x-python",
   "name": "python",
   "nbconvert_exporter": "python",
   "pygments_lexer": "ipython3",
   "version": "3.11.6"
  }
 },
 "nbformat": 4,
 "nbformat_minor": 2
}
