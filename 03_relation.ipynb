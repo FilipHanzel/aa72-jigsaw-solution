{
 "cells": [
  {
   "cell_type": "code",
   "execution_count": 1,
   "metadata": {},
   "outputs": [],
   "source": [
    "from __future__ import annotations\n",
    "\n",
    "import csv\n",
    "import logging\n",
    "import multiprocessing as mp\n",
    "import os\n",
    "import pickle\n",
    "import queue\n",
    "import time\n",
    "import traceback\n",
    "from copy import deepcopy\n",
    "from multiprocessing.managers import ListProxy\n",
    "from typing import TypeAlias\n",
    "\n",
    "import numpy as np\n",
    "import numpy.typing as npt\n",
    "from sklearn.neighbors import KDTree\n",
    "from tqdm import tqdm\n",
    "\n",
    "from utils import preview_contents"
   ]
  },
  {
   "cell_type": "code",
   "execution_count": 2,
   "metadata": {},
   "outputs": [],
   "source": [
    "Point: TypeAlias = npt.NDArray[np.floating]\n",
    "PointArray: TypeAlias = npt.NDArray[np.floating]\n",
    "\n",
    "Side: TypeAlias = dict[str, str | PointArray]\n",
    "Piece: TypeAlias = dict[str, str | list[Side]]"
   ]
  },
  {
   "cell_type": "markdown",
   "metadata": {},
   "source": [
    "# Implementation"
   ]
  },
  {
   "cell_type": "markdown",
   "metadata": {},
   "source": [
    "## Load data"
   ]
  },
  {
   "cell_type": "code",
   "execution_count": 3,
   "metadata": {},
   "outputs": [
    {
     "name": "stdout",
     "output_type": "stream",
     "text": [
      "Loaded:\n",
      "[{'name': <class 'str'>,\n",
      "  'sides': [{'corners': ((<class 'float'>,),),\n",
      "             'points': [(<class 'float'>,)],\n",
      "             'type': <class 'str'>}]}]\n",
      "\n",
      "Converting...\n"
     ]
    },
    {
     "name": "stderr",
     "output_type": "stream",
     "text": [
      "100%|██████████| 40/40 [00:00<00:00, 760.86it/s]"
     ]
    },
    {
     "name": "stdout",
     "output_type": "stream",
     "text": [
      "\n",
      "Converted:\n",
      "[{'name': <class 'str'>,\n",
      "  'sides': [{'corners': <class 'numpy.ndarray'>,\n",
      "             'points': <class 'numpy.ndarray'>,\n",
      "             'type': <class 'str'>}]}]\n"
     ]
    },
    {
     "name": "stderr",
     "output_type": "stream",
     "text": [
      "\n"
     ]
    }
   ],
   "source": [
    "stage_02_out_path = os.path.join(\"out\", \"02\", \"out.pickle\")\n",
    "\n",
    "with open(stage_02_out_path, \"rb\") as f:\n",
    "    DATA = pickle.load(f)\n",
    "\n",
    "print(\"Loaded:\")\n",
    "preview_contents(DATA)\n",
    "\n",
    "print(\"\\nConverting...\")\n",
    "for piece in tqdm(DATA):\n",
    "    for side in piece[\"sides\"]:\n",
    "        side[\"corners\"] = np.array(side[\"corners\"], dtype=np.float32)\n",
    "        side[\"points\"] = np.array(side[\"points\"], dtype=np.float32)\n",
    "\n",
    "print(\"\\nConverted:\")\n",
    "preview_contents(DATA)"
   ]
  },
  {
   "cell_type": "code",
   "execution_count": 4,
   "metadata": {},
   "outputs": [],
   "source": [
    "SAMPLE = [\n",
    "    deepcopy(piece)\n",
    "    for piece in DATA\n",
    "    if piece[\"name\"] in [\"0001\", \"0002\", \"0003\", \"0004\", \"0005\", \"0006\"]\n",
    "]"
   ]
  },
  {
   "cell_type": "markdown",
   "metadata": {},
   "source": [
    "# Side match score\n",
    "\n",
    "Calculate the match score between two sets of points using the Iterative Closest Point (ICP) algorithm.\n",
    "The match score represents the average distance between corresponding points in the source and destination sets.\n",
    "\n",
    "**Note:**\n",
    "\n",
    "The order of the source and destination arrays may affect the result.\n",
    "\n",
    "**Inspired by:**\n",
    "- https://nghiaho.com/?page_id=671\n",
    "- https://github.com/ClayFlannigan/icp\n"
   ]
  },
  {
   "cell_type": "code",
   "execution_count": 5,
   "metadata": {},
   "outputs": [],
   "source": [
    "def icp(src: np.ndarray, dst: np.ndarray) -> float:\n",
    "    src_rows, src_dims = src.shape\n",
    "    dst_rows, dst_dims = dst.shape\n",
    "\n",
    "    # Should work for points with any dimensions\n",
    "    n = max(src_dims, dst_dims)\n",
    "\n",
    "    # Make points homogenious (this also ensures the same dimensionality for src and dst)\n",
    "    src_h = np.zeros((src_rows, n + 1), dtype=np.float32)\n",
    "    dst_h = np.zeros((dst_rows, n + 1), dtype=np.float32)\n",
    "    src_h[:, n] = 1\n",
    "    dst_h[:, n] = 1\n",
    "    src_h[:, :src_dims] = src\n",
    "    dst_h[:, :dst_dims] = dst\n",
    "\n",
    "    prev_error = np.inf  # error history for early stop\n",
    "    score = np.inf  # score (average error)\n",
    "\n",
    "    tree = KDTree(dst_h, leaf_size=1, p=1)\n",
    "\n",
    "    iterations = 1000\n",
    "    for _ in range(iterations):\n",
    "        # Guess which points in dst correspond to points in src based on shortest distance\n",
    "        distances, idxs = tree.query(src_h, k=1)\n",
    "\n",
    "        # Calculate error as average distance between points in dst and src\n",
    "        error = np.mean(distances)\n",
    "\n",
    "        # Update the score\n",
    "        score = error if error < score else score\n",
    "\n",
    "        # Early stop if there is no improvement or error gets worse\n",
    "        if np.abs(prev_error - error) < 10e-6:\n",
    "            break\n",
    "        prev_error = error\n",
    "\n",
    "        # Select subset of points from dst for transformations\n",
    "        dst_s = dst_h[idxs.flatten()]\n",
    "\n",
    "        # Translate to centroids\n",
    "        src_centroid = np.mean(src_h, axis=0)\n",
    "        dst_centroid = np.mean(dst_s, axis=0)\n",
    "        src_c = src_h - src_centroid\n",
    "        dst_c = dst_s - dst_centroid\n",
    "\n",
    "        # Calculate rotation matrix\n",
    "        h = src_c.T @ dst_c\n",
    "        u, _, v = np.linalg.svd(h)\n",
    "        r = v.T @ u.T\n",
    "\n",
    "        # Special reflection case\n",
    "        if np.linalg.det(r) < 0:\n",
    "            v[-1, :] *= -1\n",
    "            r = v.T @ u.T\n",
    "\n",
    "        # Translation vector\n",
    "        t = dst_centroid - r @ src_centroid.T\n",
    "\n",
    "        # Apply transformations to src\n",
    "        src_h = (r @ src_h.T).T + t\n",
    "    else:\n",
    "        # Final score update in case of no early stop\n",
    "        distances, idxs = tree.query(src_h, k=1)\n",
    "        error = np.mean(distances)\n",
    "        score = error if error < score else score\n",
    "\n",
    "    return score"
   ]
  },
  {
   "cell_type": "code",
   "execution_count": 6,
   "metadata": {},
   "outputs": [
    {
     "name": "stdout",
     "output_type": "stream",
     "text": [
      "score: 0.75 0.3278737850487232\n",
      "score: 1.25 0.608783908188343\n",
      "score: 0.25 0.25\n",
      "score: 0.0 0.0\n"
     ]
    }
   ],
   "source": [
    "# Sanity check\n",
    "\n",
    "a = np.array([[0, 1], [1, 1], [2, 1], [3, 2]], dtype=float)\n",
    "b = np.array([[1, 1], [2, 2], [2, 3], [2, 4]], dtype=float)\n",
    "print(\"score:\", icp(a, b), icp(b, a))\n",
    "\n",
    "a = np.array([[0, 1], [1, 1], [2, 1], [3, 2]], dtype=float)\n",
    "b = np.array([[2, -1], [2, 0], [2, 1], [1, 2]], dtype=float)\n",
    "print(\"score:\", icp(a, b), icp(b, a))\n",
    "\n",
    "a = np.array([[0, 1], [1, 1], [2, 1], [3, 1]], dtype=float)\n",
    "b = np.array([[1, 1], [2, 1], [3, 1], [4, 1]], dtype=float)\n",
    "print(\"score:\", icp(a, b), icp(b, a))\n",
    "\n",
    "a = np.array([[0, 1], [1, 1], [2, 1], [3, 1]], dtype=float)\n",
    "b = np.array([[0, 2], [1, 2], [2, 2], [3, 2]], dtype=float)\n",
    "print(\"score:\", icp(a, b), icp(b, a))"
   ]
  },
  {
   "cell_type": "code",
   "execution_count": 7,
   "metadata": {},
   "outputs": [],
   "source": [
    "def get_score(src: np.ndarray, dst: np.ndarray, reverse=True) -> float:\n",
    "    # If checking hole/knob match, one has to be reversed before ICP score\n",
    "    if reverse:\n",
    "        src = -src\n",
    "        src[:, 0] -= src[:, 0].min()\n",
    "        src[:, 1] -= src[:, 1].min()\n",
    "\n",
    "    # Make sure to try matching larger side to smaller (allows to include error caused by length difference)\n",
    "    if len(dst) > len(src):\n",
    "        dst, src = src, dst\n",
    "\n",
    "    # Subsample source, to speed up calculations and cut margin to avoid noise at the ends of the side\n",
    "    keep_percentage = 0.15\n",
    "    subsampling_step = int(1 / keep_percentage)\n",
    "    cut_margin = 15\n",
    "\n",
    "    # TODO: Test cutting margin based on y corrdinates, not fixed number of points\n",
    "\n",
    "    return icp(\n",
    "        src[cut_margin:-cut_margin:subsampling_step], dst[cut_margin:-cut_margin]\n",
    "    )"
   ]
  },
  {
   "cell_type": "code",
   "execution_count": 8,
   "metadata": {},
   "outputs": [
    {
     "name": "stdout",
     "output_type": "stream",
     "text": [
      "a_idx = 0 (edge), b_idx = 0 (knob); score: 142.321\n",
      "a_idx = 0 (edge), b_idx = 1 (knob); score:  97.497\n",
      "a_idx = 0 (edge), b_idx = 2 (edge); score:  25.628\n",
      "a_idx = 0 (edge), b_idx = 3 (hole); score: 102.114\n",
      "a_idx = 1 (edge), b_idx = 0 (knob); score: 136.931\n",
      "a_idx = 1 (edge), b_idx = 1 (knob); score:  94.650\n",
      "a_idx = 1 (edge), b_idx = 2 (edge); score:   7.387\n",
      "a_idx = 1 (edge), b_idx = 3 (hole); score:  97.460\n",
      "a_idx = 2 (knob), b_idx = 0 (knob); score:  39.949\n",
      "a_idx = 2 (knob), b_idx = 1 (knob); score:  10.288\n",
      "a_idx = 2 (knob), b_idx = 2 (edge); score:  96.826\n",
      "a_idx = 2 (knob), b_idx = 3 (hole); score:  64.598\n",
      "a_idx = 3 (knob), b_idx = 0 (knob); score:  50.261\n",
      "a_idx = 3 (knob), b_idx = 1 (knob); score:  90.503\n",
      "a_idx = 3 (knob), b_idx = 2 (edge); score:  97.162\n",
      "a_idx = 3 (knob), b_idx = 3 (hole); score:   1.524\n"
     ]
    }
   ],
   "source": [
    "a = next(piece for piece in DATA if piece[\"name\"] == \"0001\")\n",
    "b = next(piece for piece in DATA if piece[\"name\"] == \"0002\")\n",
    "\n",
    "reverse = a is not b\n",
    "\n",
    "for a_idx, side_a in enumerate(a[\"sides\"]):\n",
    "    for b_idx, side_b in enumerate(b[\"sides\"]):\n",
    "        print(\n",
    "            f\"{a_idx = } ({side_a['type']}), {b_idx = } ({side_b['type']});\"\n",
    "            f\" score: {get_score(side_a['points'], side_b['points'], reverse):7.3f}\"\n",
    "        )"
   ]
  },
  {
   "cell_type": "markdown",
   "metadata": {},
   "source": [
    "# Building comparison index\n",
    "\n",
    "Compare all knobs with all holes to build an index with match scores. Scores are precomputed and stored to avoid recalculating them while solving the jigsaw.\n",
    "\n",
    "Comparison index is a csv file with following columns: \\\n",
    "`piece_a_name`, `side_a_idx`, `side_a_type`, `piece_b_name`, `side_b_idx`, `side_b_type`, `score`"
   ]
  },
  {
   "cell_type": "code",
   "execution_count": 9,
   "metadata": {},
   "outputs": [],
   "source": [
    "def build_index(pieces: list[Piece], index_file_path: str) -> None:\n",
    "    if os.path.exists(index_file_path):\n",
    "        os.remove(index_file_path)\n",
    "    if not os.path.exists(os.path.dirname(index_file_path)):\n",
    "        os.makedirs(os.path.dirname(index_file_path))\n",
    "\n",
    "    print(\"Processing...\")\n",
    "\n",
    "    n_pieces = len(pieces)\n",
    "    n_comparisons = 16 * (n_pieces - 1) * n_pieces // 2\n",
    "\n",
    "    with open(index_file_path, \"wt\") as f, tqdm(total=n_comparisons) as pbar:\n",
    "        writer = csv.writer(f)\n",
    "\n",
    "        n = len(pieces)\n",
    "        for i in range(0, n):\n",
    "            for j in range(i + 1, n):\n",
    "                a = pieces[i]\n",
    "                b = pieces[j]\n",
    "\n",
    "                for side_a_idx, side_a in enumerate(a[\"sides\"]):\n",
    "                    for side_b_idx, side_b in enumerate(b[\"sides\"]):\n",
    "                        if (side_a[\"type\"] == \"hole\" and side_b[\"type\"] == \"knob\") or (\n",
    "                            side_a[\"type\"] == \"knob\" and side_b[\"type\"] == \"hole\"\n",
    "                        ):\n",
    "                            score = get_score(side_a[\"points\"], side_b[\"points\"])\n",
    "                            writer.writerow(\n",
    "                                [\n",
    "                                    # fmt: off\n",
    "                                    a['name'], side_a_idx, side_a['type'],\n",
    "                                    b['name'], side_b_idx, side_b['type'],\n",
    "                                    score\n",
    "                                    # fmt: on\n",
    "                                ]\n",
    "                            )\n",
    "\n",
    "                        pbar.update()"
   ]
  },
  {
   "cell_type": "code",
   "execution_count": 10,
   "metadata": {},
   "outputs": [
    {
     "name": "stdout",
     "output_type": "stream",
     "text": [
      "Processing...\n"
     ]
    },
    {
     "name": "stderr",
     "output_type": "stream",
     "text": [
      "100%|██████████| 240/240 [00:01<00:00, 221.79it/s]\n"
     ]
    }
   ],
   "source": [
    "build_index(SAMPLE, os.path.join(\"out\", \"03\", \"sample_index.csv\"))"
   ]
  },
  {
   "cell_type": "markdown",
   "metadata": {},
   "source": [
    "### Multiprocessing"
   ]
  },
  {
   "cell_type": "code",
   "execution_count": 11,
   "metadata": {},
   "outputs": [],
   "source": [
    "def build_index_mp(pieces: list[Piece], index_file_path: str) -> None:\n",
    "    if os.path.exists(index_file_path):\n",
    "        os.remove(index_file_path)\n",
    "    if not os.path.exists(os.path.dirname(index_file_path)):\n",
    "        os.makedirs(os.path.dirname(index_file_path))\n",
    "\n",
    "    def worker_target(\n",
    "        mp_pieces: ListProxy,\n",
    "        input_queue: mp.Queue,\n",
    "        output_queue: mp.Queue,\n",
    "    ) -> None:\n",
    "        while True:\n",
    "            inp = input_queue.get()\n",
    "            if inp is None:\n",
    "                break\n",
    "\n",
    "            try:\n",
    "                a = mp_pieces[inp[0]]\n",
    "                b = mp_pieces[inp[1]]\n",
    "\n",
    "                for side_a_idx, side_a in enumerate(a[\"sides\"]):\n",
    "                    for side_b_idx, side_b in enumerate(b[\"sides\"]):\n",
    "                        if (side_a[\"type\"] == \"hole\" and side_b[\"type\"] == \"knob\") or (\n",
    "                            side_a[\"type\"] == \"knob\" and side_b[\"type\"] == \"hole\"\n",
    "                        ):\n",
    "                            score = get_score(side_a[\"points\"], side_b[\"points\"])\n",
    "\n",
    "                            output_queue.put(\n",
    "                                (\n",
    "                                    # fmt: off\n",
    "                                    a[\"name\"], side_a_idx, side_a[\"type\"],\n",
    "                                    b[\"name\"], side_b_idx, side_b[\"type\"],\n",
    "                                    score\n",
    "                                    # fmt: on\n",
    "                                )\n",
    "                            )\n",
    "                        else:\n",
    "                            output_queue.put(None)\n",
    "\n",
    "            except Exception as e:\n",
    "                logging.error(\n",
    "                    \"\\n\".join(traceback.format_exception(e, e, e.__traceback__))\n",
    "                )\n",
    "\n",
    "    n_workers = mp.cpu_count()\n",
    "\n",
    "    print(f\"Setting up {n_workers} workers...\")\n",
    "\n",
    "    mp_pieces = mp.Manager().list(pieces)\n",
    "    input_queue = mp.Queue()\n",
    "    output_queue = mp.Queue()\n",
    "\n",
    "    workers = [\n",
    "        mp.Process(\n",
    "            target=worker_target,\n",
    "            args=(\n",
    "                mp_pieces,\n",
    "                input_queue,\n",
    "                output_queue,\n",
    "            ),\n",
    "        )\n",
    "        for _ in range(n_workers)\n",
    "    ]\n",
    "\n",
    "    for process in workers:\n",
    "        process.start()\n",
    "\n",
    "    print(\"Filling input queue...\")\n",
    "\n",
    "    n = len(pieces)\n",
    "    for i in range(0, n):\n",
    "        for j in range(i + 1, n):\n",
    "            input_queue.put((i, j))\n",
    "\n",
    "    for i in range(n_workers):\n",
    "        input_queue.put(None)\n",
    "\n",
    "    print(\"Processing...\")\n",
    "\n",
    "    n_pieces = len(pieces)\n",
    "    n_comparisons = 16 * (n_pieces - 1) * n_pieces // 2\n",
    "\n",
    "    with open(index_file_path, \"wt\") as f, tqdm(total=n_comparisons) as pbar:\n",
    "        writer = csv.writer(f)\n",
    "\n",
    "        while True:\n",
    "            if not workers:\n",
    "                break\n",
    "\n",
    "            # Health check\n",
    "            _workers = []\n",
    "            for process in workers:\n",
    "                if not process.is_alive():\n",
    "                    if process.exitcode != 0:\n",
    "                        print(f\"Process {process.name} exited with code {process.exitcode}\")  # fmt: skip\n",
    "                else:\n",
    "                    _workers.append(process)\n",
    "            workers = _workers\n",
    "\n",
    "            # Empty output queue\n",
    "            try:\n",
    "                while True:\n",
    "                    out = output_queue.get_nowait()\n",
    "                    if out is not None:\n",
    "                        writer.writerow(out)\n",
    "                    pbar.update()\n",
    "            except queue.Empty:\n",
    "                pass\n",
    "\n",
    "            time.sleep(0.2)"
   ]
  },
  {
   "cell_type": "code",
   "execution_count": 12,
   "metadata": {},
   "outputs": [
    {
     "name": "stdout",
     "output_type": "stream",
     "text": [
      "Setting up 8 workers...\n",
      "Filling input queue...\n",
      "Processing...\n"
     ]
    },
    {
     "name": "stderr",
     "output_type": "stream",
     "text": [
      "100%|██████████| 240/240 [00:00<00:00, 396.27it/s]\n"
     ]
    }
   ],
   "source": [
    "build_index_mp(SAMPLE, os.path.join(\"out\", \"03\", \"sample_index_mp.csv\"))"
   ]
  },
  {
   "cell_type": "code",
   "execution_count": 13,
   "metadata": {},
   "outputs": [],
   "source": [
    "# Sanity check (compare single process vs mp implementation)\n",
    "with (\n",
    "    open(os.path.join(\"out\", \"03\", \"sample_index_mp.csv\"), \"rt\") as index_mp,\n",
    "    open(os.path.join(\"out\", \"03\", \"sample_index.csv\"), \"rt\") as index,\n",
    "):\n",
    "    index_mp = set(index_mp.read().strip().split(\"\\n\"))\n",
    "    index = set(index.read().strip().split(\"\\n\"))\n",
    "\n",
    "    assert index_mp == index"
   ]
  },
  {
   "cell_type": "markdown",
   "metadata": {},
   "source": [
    "# Full dataset"
   ]
  },
  {
   "cell_type": "code",
   "execution_count": 14,
   "metadata": {},
   "outputs": [
    {
     "name": "stdout",
     "output_type": "stream",
     "text": [
      "Setting up 8 workers...\n",
      "Filling input queue...\n",
      "Processing...\n"
     ]
    },
    {
     "name": "stderr",
     "output_type": "stream",
     "text": [
      "100%|██████████| 12480/12480 [00:19<00:00, 639.61it/s]\n"
     ]
    }
   ],
   "source": [
    "build_index_mp(DATA, os.path.join(\"out\", \"03\", \"index.csv\"))"
   ]
  }
 ],
 "metadata": {
  "kernelspec": {
   "display_name": "venv",
   "language": "python",
   "name": "python3"
  },
  "language_info": {
   "codemirror_mode": {
    "name": "ipython",
    "version": 3
   },
   "file_extension": ".py",
   "mimetype": "text/x-python",
   "name": "python",
   "nbconvert_exporter": "python",
   "pygments_lexer": "ipython3",
   "version": "3.11.6"
  }
 },
 "nbformat": 4,
 "nbformat_minor": 2
}
